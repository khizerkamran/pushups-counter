{
 "cells": [
  {
   "cell_type": "code",
   "execution_count": null,
   "id": "22fa412d",
   "metadata": {},
   "outputs": [
    {
     "name": "stdout",
     "output_type": "stream",
     "text": [
      "1\n"
     ]
    }
   ],
   "source": [
    "import cv2\n",
    "import mediapipe as mp\n",
    "import os\n",
    "mp_drawing = mp.solutions.drawing_utils\n",
    "mp_pose = mp.solutions.pose\n",
    "counter = 0\n",
    "stage = None\n",
    "create = None\n",
    "opname = \"output.avi\"\n",
    "def findPosition(image, draw=True):\n",
    "  lmList = []\n",
    "  if results.pose_landmarks:\n",
    "      mp_drawing.draw_landmarks(\n",
    "         image, results.pose_landmarks, mp_pose.POSE_CONNECTIONS)\n",
    "      for id, lm in enumerate(results.pose_landmarks.landmark):\n",
    "          h, w, c = image.shape\n",
    "          cx, cy = int(lm.x * w), int(lm.y * h)\n",
    "          lmList.append([id, cx, cy])\n",
    "          #cv2.circle(image, (cx, cy), 5, (255, 0, 0), cv2.FILLED)\n",
    "  return lmList\n",
    "cap = cv2.VideoCapture(0)\n",
    "with mp_pose.Pose(\n",
    "    min_detection_confidence=0.7,\n",
    "    min_tracking_confidence=0.7) as pose:\n",
    "  while cap.isOpened():\n",
    "    success, image = cap.read()\n",
    "    image = cv2.resize(image, (640,480))\n",
    "    if not success:\n",
    "      print(\"Ignoring empty camera frame.\")\n",
    "      # If loading a video, use 'break' instead of 'continue'.\n",
    "      continue\n",
    "    # Flip the image horizontally for a later selfie-view display, and convert\n",
    "    # the BGR image to RGB.\n",
    "    image = cv2.cvtColor(cv2.flip(image, 1), cv2.COLOR_BGR2RGB)\n",
    "    # To improve performance, optionally mark the image as not writeable to\n",
    "    # pass by reference.\n",
    "    results = pose.process(image)\n",
    "    # Draw the pose annotation on the image.\n",
    "    image = cv2.cvtColor(image, cv2.COLOR_BGR2RGB)\n",
    "    lmList = findPosition(image, draw=True)\n",
    "    if len(lmList) != 0:\n",
    "      cv2.circle(image, (lmList[12][1], lmList[12][2]), 20, (0, 0, 255), cv2.FILLED)\n",
    "      cv2.circle(image, (lmList[11][1], lmList[11][2]), 20, (0, 0, 255), cv2.FILLED)\n",
    "      cv2.circle(image, (lmList[12][1], lmList[12][2]), 20, (0, 0, 255), cv2.FILLED)\n",
    "      cv2.circle(image, (lmList[11][1], lmList[11][2]), 20, (0, 0, 255), cv2.FILLED)\n",
    "      if (lmList[12][2] and lmList[11][2] >= lmList[14][2] and lmList[13][2]):\n",
    "        cv2.circle(image, (lmList[12][1], lmList[12][2]), 20, (0, 255, 0), cv2.FILLED)\n",
    "        cv2.circle(image, (lmList[11][1], lmList[11][2]), 20, (0, 255, 0), cv2.FILLED)\n",
    "        stage = \"down\"\n",
    "      if (lmList[12][2] and lmList[11][2] <= lmList[14][2] and lmList[13][2]) and stage == \"down\":\n",
    "        stage = \"up\"\n",
    "        counter += 1\n",
    "        counter2 = str(int(counter))\n",
    "        print(counter)\n",
    "        os.system(\"echo '\" + counter2 + \"' | festival --tts\")\n",
    "    text = \"{}:{}\".format(\"Push Ups\", counter)\n",
    "    cv2.putText(image, text, (10, 40), cv2.FONT_HERSHEY_SIMPLEX,\n",
    "                1, (255, 0, 0), 2)\n",
    "    cv2.imshow('MediaPipe Pose', image)\n",
    "    if create is None:\n",
    "      fourcc = cv2.VideoWriter_fourcc(*'XVID')\n",
    "      create = cv2.VideoWriter(opname, fourcc, 30, (image.shape[1], image.shape[0]), True)\n",
    "    create.write(image)\n",
    "    key = cv2.waitKey(1) & 0xFF\n",
    "    # if the `q` key was pressed, break from the loop\n",
    "    if key == ord(\"q\"):\n",
    "      break\n",
    "    # do a bit of cleanup\n",
    "cv2.destroyAllWindows()"
   ]
  },
  {
   "cell_type": "code",
   "execution_count": null,
   "id": "14abf683",
   "metadata": {},
   "outputs": [],
   "source": []
  }
 ],
 "metadata": {
  "kernelspec": {
   "display_name": "Python 3",
   "language": "python",
   "name": "python3"
  },
  "language_info": {
   "codemirror_mode": {
    "name": "ipython",
    "version": 3
   },
   "file_extension": ".py",
   "mimetype": "text/x-python",
   "name": "python",
   "nbconvert_exporter": "python",
   "pygments_lexer": "ipython3",
   "version": "3.8.7"
  }
 },
 "nbformat": 4,
 "nbformat_minor": 5
}
